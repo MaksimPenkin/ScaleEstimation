{
 "cells": [
  {
   "cell_type": "code",
   "execution_count": 1,
   "id": "b2e7865c",
   "metadata": {},
   "outputs": [],
   "source": [
    "import tensorflow as tf"
   ]
  },
  {
   "cell_type": "code",
   "execution_count": 2,
   "id": "c771ee9e",
   "metadata": {},
   "outputs": [
    {
     "data": {
      "text/plain": [
       "'2.9.1'"
      ]
     },
     "execution_count": 2,
     "metadata": {},
     "output_type": "execute_result"
    }
   ],
   "source": [
    "tf.__version__"
   ]
  },
  {
   "cell_type": "code",
   "execution_count": 3,
   "id": "a314eb14",
   "metadata": {},
   "outputs": [],
   "source": [
    "def set_gpu(gpu_index):\n",
    "    import tensorflow as tf\n",
    "    physical_devices  = tf.config.experimental.list_physical_devices('GPU')\n",
    "    print(f'Available GPUs: {len(physical_devices )}')\n",
    "    if physical_devices:\n",
    "        print(f'Choosing GPU #{gpu_index}')\n",
    "        try:\n",
    "            tf.config.experimental.set_visible_devices([physical_devices[gpu_index]], 'GPU')\n",
    "            logical_devices = tf.config.list_logical_devices('GPU')\n",
    "            assert len(logical_devices) == 1\n",
    "            print(f'Success. Now visible GPUs: {len(logical_devices)}')\n",
    "        except RuntimeError as e:\n",
    "            print('Something went wrong!')\n",
    "            print(e)"
   ]
  },
  {
   "cell_type": "code",
   "execution_count": 4,
   "id": "1da1b15b",
   "metadata": {},
   "outputs": [
    {
     "name": "stdout",
     "output_type": "stream",
     "text": [
      "Available GPUs: 1\n",
      "Choosing GPU #0\n",
      "Success. Now visible GPUs: 1\n"
     ]
    }
   ],
   "source": [
    "set_gpu(0)"
   ]
  },
  {
   "cell_type": "code",
   "execution_count": 5,
   "id": "550afe85",
   "metadata": {},
   "outputs": [],
   "source": [
    "import os\n",
    "import numpy as np\n",
    "import cv2\n",
    "from skimage.io import imread, imsave\n",
    "from PIL import Image\n",
    "from tqdm import tqdm\n",
    "import matplotlib.pyplot as plt"
   ]
  },
  {
   "cell_type": "markdown",
   "id": "8134ab82",
   "metadata": {},
   "source": [
    "**Define the model**"
   ]
  },
  {
   "cell_type": "code",
   "execution_count": 6,
   "id": "c9d2c97c",
   "metadata": {},
   "outputs": [],
   "source": [
    "from tensorflow.keras import Model\n",
    "from tensorflow.keras.layers import Dense, Input\n",
    "from tensorflow.keras.optimizers import Adam\n",
    "from tensorflow.python.keras.layers.pooling import GlobalAveragePooling2D"
   ]
  },
  {
   "cell_type": "code",
   "execution_count": 7,
   "id": "8ce6f949",
   "metadata": {},
   "outputs": [],
   "source": [
    "class HistClassificationModel:\n",
    "\n",
    "    def __init__(self):\n",
    "\n",
    "        base_model = tf.keras.applications.DenseNet121(input_shape=(224, 224, 3),\n",
    "                                                       include_top=False,\n",
    "                                                       weights='imagenet')\n",
    "        base_model.trainable = False\n",
    "\n",
    "        inputs = Input((224, 224, 3))\n",
    "        x = base_model(inputs, training=False)\n",
    "        x = GlobalAveragePooling2D()(x)\n",
    "        logits = Dense(5, activation=None)(x)\n",
    "        self.model = Model(inputs, outputs=[x, logits])\n",
    "\n",
    "        self.model.compile(\n",
    "            optimizer=Adam(learning_rate=0.000002), \n",
    "            loss='categorical_crossentropy',\n",
    "            metrics=['accuracy'],\n",
    "        )\n",
    "\n",
    "        self.model.summary()\n",
    "        \n",
    "    def load_weights(self, path_ckpt):\n",
    "        self.model.load_weights(path_ckpt)"
   ]
  },
  {
   "cell_type": "code",
   "execution_count": 8,
   "id": "83548644",
   "metadata": {},
   "outputs": [
    {
     "name": "stdout",
     "output_type": "stream",
     "text": [
      "Model: \"model\"\n",
      "_________________________________________________________________\n",
      " Layer (type)                Output Shape              Param #   \n",
      "=================================================================\n",
      " input_2 (InputLayer)        [(None, 224, 224, 3)]     0         \n",
      "                                                                 \n",
      " densenet121 (Functional)    (None, 7, 7, 1024)        7037504   \n",
      "                                                                 \n",
      " tf.math.reduce_mean (TFOpLa  (None, 1024)             0         \n",
      " mbda)                                                           \n",
      "                                                                 \n",
      " dense (Dense)               (None, 5)                 5125      \n",
      "                                                                 \n",
      "=================================================================\n",
      "Total params: 7,042,629\n",
      "Trainable params: 5,125\n",
      "Non-trainable params: 7,037,504\n",
      "_________________________________________________________________\n"
     ]
    }
   ],
   "source": [
    "net = HistClassificationModel()"
   ]
  },
  {
   "cell_type": "markdown",
   "id": "11875af3",
   "metadata": {},
   "source": [
    "**Load pre-trained ckpts**"
   ]
  },
  {
   "cell_type": "code",
   "execution_count": 9,
   "id": "e104e8d2",
   "metadata": {},
   "outputs": [],
   "source": [
    "net.load_weights(r\"C:\\Users\\penki\\Documents\\cmc\\ScaleEstimation\\ckpt\\densenet121_wsi224\\model_best.hdf5\")"
   ]
  },
  {
   "cell_type": "markdown",
   "id": "78183521",
   "metadata": {},
   "source": [
    "**Get evaluation dataset**"
   ]
  },
  {
   "cell_type": "markdown",
   "id": "0bc19ac2",
   "metadata": {},
   "source": [
    "NOTE:\n",
    "\n",
    "предложенная Александром Хвостиковым модель DenseNet121 обучена летом 2022 на слегка другой выборке из\n",
    "набора данных `PATH-DT-MSU-WSI`.\n",
    "\n",
    "Тренировочный сет имел гораздо меньший размер.\n",
    "\n",
    "Валидационные патчи (`./data/patches_new_6/test-224-z20`) были просэмплированы из всего двух полнослайдовых изображений:\n",
    "- `c:\\\\dev\\\\#data\\\\PATH-DT-MSU-WSI\\\\S2\\\\S2\\\\06.svs`\n",
    "- `c:\\\\dev\\\\#data\\\\PATH-DT-MSU-WSI\\\\S2\\\\S2\\\\08.svs`\n",
    "\n",
    "В ноябре 2022 датасет доразметили, однако модель переобучить не успели.\n",
    "\n",
    "Точность модели на `patches-wsi-224-val-z2`:\n",
    "- Accuracy: 0.684\n",
    "- Balanced accuracy: 0.561\n",
    "- Confusion matrix:"
   ]
  },
  {
   "cell_type": "code",
   "execution_count": null,
   "id": "b1c2a408",
   "metadata": {},
   "outputs": [],
   "source": [
    "print(np.array([[4508,      90,    16,   2037,   114],\n",
    "\n",
    "                [1357,   12105,   218,    239,   181],\n",
    "\n",
    "                [13,         1,   420,      0,   139],\n",
    "\n",
    "                [108,        0,     9,     66,     0],\n",
    "\n",
    "                [1942,       2,   219,   1605,   875]]))"
   ]
  },
  {
   "cell_type": "code",
   "execution_count": null,
   "id": "d22173c1",
   "metadata": {},
   "outputs": [],
   "source": [
    "from image_tfdatasets import PATH_DT_MSU_WSI"
   ]
  },
  {
   "cell_type": "code",
   "execution_count": 10,
   "id": "9850b62b",
   "metadata": {},
   "outputs": [],
   "source": [
    "BATCH_SIZE = 32\n",
    "H = 224\n",
    "W = 224\n",
    "C = 3"
   ]
  },
  {
   "cell_type": "code",
   "execution_count": null,
   "id": "ba4da10c",
   "metadata": {},
   "outputs": [],
   "source": [
    "val_db = PATH_DT_MSU_WSI(db_list=r\"C:\\Users\\penki\\Documents\\cmc\\data\\PATH-DT-MSU-WSI\\val.txt\",\n",
    "                         db_folder_to_label_list=r\"C:\\Users\\penki\\Documents\\cmc\\data\\PATH-DT-MSU-WSI\\folder_to_label.json\",\n",
    "                         db_basedir=r\"C:\\Users\\penki\\Documents\\cmc\\data\\PATH-DT-MSU-WSI\\patches-wsi-224-val-z2\",\n",
    "                         dtype_in=tf.uint8,\n",
    "                         shuffle=False)\n",
    "val_db_tf = val_db.get_tfdataset(with_label=True, batch_size=BATCH_SIZE)"
   ]
  },
  {
   "cell_type": "code",
   "execution_count": null,
   "id": "2b5433c0",
   "metadata": {},
   "outputs": [],
   "source": [
    "num_batches = len(val_db) // BATCH_SIZE"
   ]
  },
  {
   "cell_type": "markdown",
   "id": "9e34a958",
   "metadata": {},
   "source": [
    "**Evaluate mode with pre-trained weights on the original scale**"
   ]
  },
  {
   "cell_type": "code",
   "execution_count": null,
   "id": "d325b86f",
   "metadata": {},
   "outputs": [],
   "source": [
    "from evaluator import Image2LabelEvaluator as Evaluator"
   ]
  },
  {
   "cell_type": "code",
   "execution_count": null,
   "id": "5ee1254c",
   "metadata": {},
   "outputs": [],
   "source": [
    "print(\"[*] Benchmarking on testing set...\")\n",
    "evaluate_engine = Evaluator(net.model,\n",
    "                            val_db_tf.take(num_batches),\n",
    "                            num_batches)\n",
    "top1, top5, ce = evaluate_engine()\n",
    "print(\"Top-1: {0:.4f}; Top-5: {1:.4f}; Cross-Entropy: {2:.4f}\".format(top1, top5, ce))\n",
    "print(\"Done.\\n\")\n",
    "\n",
    "# {\n",
    "#     \"top-1\": float(top1.numpy()),\n",
    "#     \"top-5\": float(top5.numpy()),\n",
    "#     \"cross-entropy\": float(ce.numpy())\n",
    "# }"
   ]
  },
  {
   "cell_type": "markdown",
   "id": "b57563b6",
   "metadata": {},
   "source": [
    "**Testing on real multi-scale WSI via OpenSlide library**"
   ]
  },
  {
   "cell_type": "code",
   "execution_count": 11,
   "id": "edfd1ee5",
   "metadata": {},
   "outputs": [],
   "source": [
    "# The path can also be read from a config file, etc.\n",
    "OPENSLIDE_PATH = r'C:\\tools\\openslide-win64-20221217\\bin'\n",
    "\n",
    "import os\n",
    "if hasattr(os, 'add_dll_directory'):\n",
    "    # Python >= 3.8 on Windows\n",
    "    with os.add_dll_directory(OPENSLIDE_PATH):\n",
    "        import openslide\n",
    "else:\n",
    "    import openslide\n",
    "    \n",
    "# import large_image\n",
    "\n",
    "from openslide import open_slide\n",
    "from PIL import Image\n",
    "import numpy as np\n",
    "import matplotlib.pyplot as plt"
   ]
  },
  {
   "cell_type": "code",
   "execution_count": 12,
   "id": "556fe3e2",
   "metadata": {},
   "outputs": [],
   "source": [
    "import os\n",
    "\n",
    "import numpy as np\n",
    "import matplotlib.pyplot as plt"
   ]
  },
  {
   "cell_type": "code",
   "execution_count": 13,
   "id": "00617c9a",
   "metadata": {},
   "outputs": [],
   "source": [
    "DEF_COLOR_MAP = {\n",
    "    0: (245, 119, 34), # AT (orange)\n",
    "    1: (153, 255, 255), # BG (cyan)\n",
    "    2: (64, 170, 72), # LP (green)\n",
    "    3: (255, 0, 0), # MM (red)\n",
    "    4: (33, 67, 156), # TUM (blue)\n",
    "}\n",
    "\n",
    "DEF_COLOR_MAP_NAME = {\n",
    "    0: \"orange\", # AT (orange)\n",
    "    1: \"cyan\", # BG (cyan)\n",
    "    2: \"green\", # LP (green)\n",
    "    3: \"red\", # MM (red)\n",
    "    4: \"blue\", # TUM (blue)\n",
    "}\n",
    "\n",
    "DEF_STYLE_MAP_NAME = {\n",
    "    0: \"-\", # AT (orange)\n",
    "    1: \":\", # BG (cyan)\n",
    "    2: \"-.\", # LP (green)\n",
    "    3: (0, (3, 1, 1, 1, 1, 1)), # MM (red)\n",
    "    4: \"--\", # TUM (blue)\n",
    "}\n",
    "\n",
    "DEF_LABEL_FOLDER = {\n",
    "    0: \"AT\", # AT (orange)\n",
    "    1: \"BG\", # BG (cyan)\n",
    "    2: \"LP\", # LP (green)\n",
    "    3: \"MM\", # MM (red)\n",
    "    4: \"TUM\", # TUM (blue)\n",
    "}"
   ]
  },
  {
   "cell_type": "code",
   "execution_count": 14,
   "id": "72fb2262",
   "metadata": {},
   "outputs": [],
   "source": [
    "wsi_path = r\"C:\\Users\\penki\\Documents\\cmc\\data\\PATH-DT-MSU-WSI\\WSS2-v1\\train\\03.svs\""
   ]
  },
  {
   "cell_type": "code",
   "execution_count": 15,
   "id": "bcd7aad9",
   "metadata": {},
   "outputs": [],
   "source": [
    "slide = open_slide(wsi_path)"
   ]
  },
  {
   "cell_type": "code",
   "execution_count": 16,
   "id": "c3abc06a",
   "metadata": {},
   "outputs": [
    {
     "data": {
      "text/plain": [
       "<_PropertyMap {'aperio.AppMag': '40', 'aperio.Date': '11/06/20', 'aperio.DisplayColor': '0', 'aperio.Exposure Scale': '0.000001', 'aperio.Exposure Time': '45', 'aperio.Filename': '1043324', 'aperio.Focus Offset': '-0.000500', 'aperio.ICC Profile': 'AT2', 'aperio.ImageID': '1043324', 'aperio.Left': '23.844707', 'aperio.LineAreaXOffset': '0.016146', 'aperio.LineAreaYOffset': '0.001517', 'aperio.LineCameraSkew': '-0.002095', 'aperio.MPP': '0.2528', 'aperio.OriginalHeight': '65909', 'aperio.OriginalWidth': '101600', 'aperio.ScanScope ID': 'SS7315', 'aperio.SessonMode': 'NR', 'aperio.StripeWidth': '2032', 'aperio.Time': '14:51:24', 'aperio.Time Zone': 'GMT+03:00', 'aperio.Top': '19.264688', 'aperio.User': 'a8d3f0e3-63d8-4f23-a277-b4bfcf02ca71', 'openslide.comment': 'Aperio Image Library v12.0.15 \\r\\n101600x65909 [0,100 99600x65809] (240x240) JPEG/RGB Q=70|AppMag = 40|StripeWidth = 2032|ScanScope ID = SS7315|Filename = 1043324|Date = 11/06/20|Time = 14:51:24|Time Zone = GMT+03:00|User = a8d3f0e3-63d8-4f23-a277-b4bfcf02ca71|MPP = 0.2528|Left = 23.844707|Top = 19.264688|LineCameraSkew = -0.002095|LineAreaXOffset = 0.016146|LineAreaYOffset = 0.001517|Focus Offset = -0.000500|ImageID = 1043324|Exposure Time = 45|Exposure Scale = 0.000001|DisplayColor = 0|SessonMode = NR|OriginalWidth = 101600|OriginalHeight = 65909|ICC Profile = AT2', 'openslide.level-count': '4', 'openslide.level[0].downsample': '1', 'openslide.level[0].height': '65809', 'openslide.level[0].tile-height': '240', 'openslide.level[0].tile-width': '240', 'openslide.level[0].width': '99600', 'openslide.level[1].downsample': '4.0000303914417703', 'openslide.level[1].height': '16452', 'openslide.level[1].tile-height': '240', 'openslide.level[1].tile-width': '240', 'openslide.level[1].width': '24900', 'openslide.level[2].downsample': '16.000121565767081', 'openslide.level[2].height': '4113', 'openslide.level[2].tile-height': '240', 'openslide.level[2].tile-width': '240', 'openslide.level[2].width': '6225', 'openslide.level[3].downsample': '32.006704935332536', 'openslide.level[3].height': '2056', 'openslide.level[3].tile-height': '240', 'openslide.level[3].tile-width': '240', 'openslide.level[3].width': '3112', 'openslide.mpp-x': '0.25280000000000002', 'openslide.mpp-y': '0.25280000000000002', 'openslide.objective-power': '40', 'openslide.vendor': 'aperio', 'tiff.ImageDescription': 'Aperio Image Library v12.0.15 \\r\\n101600x65909 [0,100 99600x65809] (240x240) JPEG/RGB Q=70|AppMag = 40|StripeWidth = 2032|ScanScope ID = SS7315|Filename = 1043324|Date = 11/06/20|Time = 14:51:24|Time Zone = GMT+03:00|User = a8d3f0e3-63d8-4f23-a277-b4bfcf02ca71|MPP = 0.2528|Left = 23.844707|Top = 19.264688|LineCameraSkew = -0.002095|LineAreaXOffset = 0.016146|LineAreaYOffset = 0.001517|Focus Offset = -0.000500|ImageID = 1043324|Exposure Time = 45|Exposure Scale = 0.000001|DisplayColor = 0|SessonMode = NR|OriginalWidth = 101600|OriginalHeight = 65909|ICC Profile = AT2', 'tiff.ResolutionUnit': 'inch'}>"
      ]
     },
     "execution_count": 16,
     "metadata": {},
     "output_type": "execute_result"
    }
   ],
   "source": [
    "slide.properties"
   ]
  },
  {
   "cell_type": "code",
   "execution_count": 17,
   "id": "dfb40d2e",
   "metadata": {},
   "outputs": [
    {
     "data": {
      "text/plain": [
       "((99600, 65809), (24900, 16452), (6225, 4113), (3112, 2056))"
      ]
     },
     "execution_count": 17,
     "metadata": {},
     "output_type": "execute_result"
    }
   ],
   "source": [
    "slide.level_dimensions"
   ]
  },
  {
   "cell_type": "code",
   "execution_count": 18,
   "id": "c9329092",
   "metadata": {},
   "outputs": [],
   "source": [
    "def get_image_scale(wsi, h_c, w_c, h, w):\n",
    "    h_0 = h_c - h//2\n",
    "    w_0 = w_c - w//2\n",
    "\n",
    "    location = (w_0, h_0)\n",
    "    smaller_region = slide.read_region(location, level=0, size=(h,w))\n",
    "    smaller_region = np.array(smaller_region.convert('RGB'))\n",
    "    \n",
    "    return cv2.resize(smaller_region, (224, 224)).astype(np.float32) / 255."
   ]
  },
  {
   "cell_type": "markdown",
   "id": "c760e402",
   "metadata": {},
   "source": [
    "**Play a little bit with different scales extraction**"
   ]
  },
  {
   "cell_type": "code",
   "execution_count": 19,
   "id": "3170ffc8",
   "metadata": {},
   "outputs": [],
   "source": [
    "from collections import OrderedDict\n",
    "\n",
    "scales_dict = OrderedDict({\n",
    "    \"x10\": 896,\n",
    "    \"x12\": 747,\n",
    "    \"x14\": 640,\n",
    "    \"x17\": 527,\n",
    "    \"x20\": 448,\n",
    "    \"x25\": 358,\n",
    "    \"x30\": 299,\n",
    "    \"x35\": 256,\n",
    "    \"x43\": 208\n",
    "})"
   ]
  },
  {
   "cell_type": "code",
   "execution_count": null,
   "id": "61ddfcd0",
   "metadata": {},
   "outputs": [],
   "source": [
    "k = 22.13\n",
    "\n",
    "h_c = int(202 * k)\n",
    "w_c = int(2202 * k)"
   ]
  },
  {
   "cell_type": "code",
   "execution_count": null,
   "id": "43991eff",
   "metadata": {},
   "outputs": [],
   "source": [
    "W = net.model.get_layer(\"dense\").weights[0].numpy()\n",
    "l2_norm = np.linalg.norm(W, ord=None, axis=0)  # Frobenius norm\n",
    "\n",
    "def algorithm(h_c, w_c, verbose=0):\n",
    "\n",
    "    X = []\n",
    "    for mashtab, p_size_curr in scales_dict.items():\n",
    "        img = get_image_scale(slide, h_c, w_c, p_size_curr, p_size_curr)\n",
    "\n",
    "        img_t = img[None, ...]\n",
    "        f, logits = net.model(img_t)\n",
    "        X.append(f.numpy()[0])\n",
    "\n",
    "        probs = tf.nn.softmax(logits, axis=-1)\n",
    "        pred = np.argmax(probs)\n",
    "\n",
    "        if verbose:\n",
    "            print(\"Scale: {0}; Prediciton: {1}; Probability: {2:.2f}\".format(mashtab,\n",
    "                                                                             pred,\n",
    "                                                                             probs.numpy()[0][pred]*100.0))\n",
    "    X = np.array(X)\n",
    "    dot = X.dot(W) / l2_norm[np.newaxis, ...]\n",
    "    \n",
    "    return np.argmax(dot.max(axis=-1))"
   ]
  },
  {
   "cell_type": "markdown",
   "id": "7537e2a3",
   "metadata": {},
   "source": [
    "**Apply algorithm**"
   ]
  },
  {
   "cell_type": "code",
   "execution_count": null,
   "id": "deaa4a98",
   "metadata": {},
   "outputs": [],
   "source": [
    "#h_coords = np.random.randint(low=250, high=1800, size=(1000))\n",
    "#w_coords = np.random.randint(low=2000, high=4200, size=(1000))\n",
    "\n",
    "h_coords = np.random.randint(low=300, high=300+224, size=(100))\n",
    "w_coords = np.random.randint(low=2700, high=2700+224, size=(100))\n",
    "\n",
    "# h_coords = np.random.randint(low=90, high=90+224, size=(100))\n",
    "# w_coords = np.random.randint(low=2090, high=2090+224, size=(100))"
   ]
  },
  {
   "cell_type": "code",
   "execution_count": null,
   "id": "662e3c21",
   "metadata": {},
   "outputs": [],
   "source": [
    "s_opt = []\n",
    "i = 0\n",
    "for h_c, w_c in zip(h_coords, w_coords):\n",
    "    if i % 10 == 0:\n",
    "        print(i)\n",
    "    s = algorithm(int(h_c * k), int(w_c * k))\n",
    "    s_opt.append(s)\n",
    "    i += 1"
   ]
  },
  {
   "cell_type": "code",
   "execution_count": null,
   "id": "c7bfb96c",
   "metadata": {},
   "outputs": [],
   "source": [
    "count = {\n",
    "    'x10':0, 'x12':0, 'x14':0, 'x17':0, 'x20':0, 'x25':0, 'x30':0, 'x35':0, 'x43':0\n",
    "}\n",
    "\n",
    "for s in s_opt:\n",
    "    if s == 0:\n",
    "        count['x10'] += 1\n",
    "    elif s == 1:\n",
    "        count['x12'] += 1\n",
    "    elif s == 2:\n",
    "        count['x14'] += 1\n",
    "    elif s == 3:\n",
    "        count['x17'] += 1\n",
    "    elif s == 4:\n",
    "        count['x20'] += 1\n",
    "    elif s == 5:\n",
    "        count['x25'] += 1\n",
    "    elif s == 6:\n",
    "        count['x30'] += 1\n",
    "    elif s == 7:\n",
    "        count['x35'] += 1\n",
    "    elif s == 8:\n",
    "        count['x43'] += 1"
   ]
  },
  {
   "cell_type": "code",
   "execution_count": null,
   "id": "1385a878",
   "metadata": {},
   "outputs": [],
   "source": [
    "count"
   ]
  },
  {
   "cell_type": "code",
   "execution_count": 20,
   "id": "c2ead92e",
   "metadata": {},
   "outputs": [],
   "source": [
    "import matplotlib\n",
    "font = {'size'   : 20}\n",
    "\n",
    "matplotlib.rc('font', **font)"
   ]
  },
  {
   "cell_type": "code",
   "execution_count": null,
   "id": "9ab9254d",
   "metadata": {},
   "outputs": [],
   "source": [
    "fig, ax = plt.subplots(figsize=(9,6))\n",
    "ax.bar(count.keys(), count.values(), 0.5, color='g')\n",
    "ax.grid()\n",
    "plt.xlabel(r\"$s$\")\n",
    "fig.savefig(\"out.jpg\", bbox_inches='tight')"
   ]
  },
  {
   "cell_type": "markdown",
   "id": "d52e43a0",
   "metadata": {},
   "source": [
    "**Visualize chosen patch in multiple scales**"
   ]
  },
  {
   "cell_type": "code",
   "execution_count": null,
   "id": "401ffc56",
   "metadata": {},
   "outputs": [],
   "source": [
    "l = []\n",
    "for _, p_size_curr in scales_dict.items():\n",
    "    img = get_image_scale(slide, h_c, w_c, p_size_curr, p_size_curr)\n",
    "    buff = np.ones(shape=(256,256,3))\n",
    "    buff[:224,:224] = img\n",
    "    l.append(buff)\n",
    "#cv2.imwrite(\"./MM.png\", np.hstack(l)*255)"
   ]
  },
  {
   "cell_type": "code",
   "execution_count": null,
   "id": "28a0e385",
   "metadata": {},
   "outputs": [],
   "source": [
    "smaller_region = get_image_scale(slide, h_c, w_c, 1000, 1000)"
   ]
  },
  {
   "cell_type": "code",
   "execution_count": null,
   "id": "c798e091",
   "metadata": {},
   "outputs": [],
   "source": [
    "plt.imshow(smaller_region)"
   ]
  },
  {
   "cell_type": "markdown",
   "id": "f72ddba1",
   "metadata": {},
   "source": [
    "**Review predictions and model's confidence in the predictions on various scales**"
   ]
  },
  {
   "cell_type": "code",
   "execution_count": 21,
   "id": "e9d75fd3",
   "metadata": {},
   "outputs": [],
   "source": [
    "k = 22.13\n",
    "\n",
    "h_c = int(1112 * k)\n",
    "w_c = int(4162 * k)"
   ]
  },
  {
   "cell_type": "code",
   "execution_count": 22,
   "id": "022bb08e",
   "metadata": {},
   "outputs": [
    {
     "name": "stdout",
     "output_type": "stream",
     "text": [
      "Scale: x10; Prediciton: 4; Probability: 76.06\n",
      "Scale: x12; Prediciton: 4; Probability: 94.63\n",
      "Scale: x14; Prediciton: 4; Probability: 96.78\n",
      "Scale: x17; Prediciton: 4; Probability: 92.37\n",
      "Scale: x20; Prediciton: 4; Probability: 95.02\n",
      "Scale: x25; Prediciton: 4; Probability: 91.32\n",
      "Scale: x30; Prediciton: 4; Probability: 94.74\n",
      "Scale: x35; Prediciton: 4; Probability: 94.24\n",
      "Scale: x43; Prediciton: 4; Probability: 96.28\n"
     ]
    },
    {
     "data": {
      "text/plain": [
       "(9, 1024)"
      ]
     },
     "execution_count": 22,
     "metadata": {},
     "output_type": "execute_result"
    }
   ],
   "source": [
    "X = []\n",
    "\n",
    "for mashtab, p_size_curr in scales_dict.items():\n",
    "    img = get_image_scale(slide, h_c, w_c, p_size_curr, p_size_curr)\n",
    "\n",
    "    img_t = img[None, ...]\n",
    "    f, logits = net.model(img_t)\n",
    "    X.append(f.numpy()[0])\n",
    "\n",
    "    probs = tf.nn.softmax(logits, axis=-1)\n",
    "    pred = np.argmax(probs)\n",
    "    \n",
    "    print(\"Scale: {0}; Prediciton: {1}; Probability: {2:.2f}\".format(mashtab,\n",
    "                                                                     pred,\n",
    "                                                                     probs.numpy()[0][pred]*100.0))\n",
    "X = np.array(X)\n",
    "X.shape"
   ]
  },
  {
   "cell_type": "markdown",
   "id": "b7549df9",
   "metadata": {},
   "source": [
    "**Look into deep features activation...**"
   ]
  },
  {
   "cell_type": "code",
   "execution_count": 23,
   "id": "b83a4b16",
   "metadata": {},
   "outputs": [
    {
     "data": {
      "text/plain": [
       "(1024, 5)"
      ]
     },
     "execution_count": 23,
     "metadata": {},
     "output_type": "execute_result"
    }
   ],
   "source": [
    "W = net.model.get_layer(\"dense\").weights[0].numpy()\n",
    "W.shape"
   ]
  },
  {
   "cell_type": "code",
   "execution_count": 24,
   "id": "bda3a26a",
   "metadata": {},
   "outputs": [
    {
     "data": {
      "text/plain": [
       "(5,)"
      ]
     },
     "execution_count": 24,
     "metadata": {},
     "output_type": "execute_result"
    }
   ],
   "source": [
    "l2_norm = np.linalg.norm(W, ord=None, axis=0)  # Frobenius norm\n",
    "l2_norm.shape"
   ]
  },
  {
   "cell_type": "code",
   "execution_count": 25,
   "id": "3f512c2b",
   "metadata": {},
   "outputs": [
    {
     "data": {
      "text/plain": [
       "(9, 5)"
      ]
     },
     "execution_count": 25,
     "metadata": {},
     "output_type": "execute_result"
    }
   ],
   "source": [
    "dot = X.dot(W) / l2_norm[np.newaxis, ...]\n",
    "dot.shape"
   ]
  },
  {
   "cell_type": "code",
   "execution_count": 26,
   "id": "7f032e7e",
   "metadata": {},
   "outputs": [],
   "source": [
    "import matplotlib\n",
    "font = {'size'   : 20}\n",
    "\n",
    "matplotlib.rc('font', **font)"
   ]
  },
  {
   "cell_type": "code",
   "execution_count": 27,
   "id": "7aedd67b",
   "metadata": {},
   "outputs": [
    {
     "data": {
      "image/png": "[encoded data removed]",
      "text/plain": [
       "<Figure size 900x600 with 1 Axes>"
      ]
     },
     "metadata": {},
     "output_type": "display_data"
    }
   ],
   "source": [
    "fig, ax = plt.subplots(figsize=(9,6))\n",
    "for i in range(5):\n",
    "    ax.plot(list(scales_dict.keys()), dot[:,i],\n",
    "            label=r\"$\\rho$(x, {})\".format(DEF_LABEL_FOLDER[i]),\n",
    "            color=DEF_COLOR_MAP_NAME[i],\n",
    "            linestyle=DEF_STYLE_MAP_NAME[i],\n",
    "            linewidth=3.0)\n",
    "ax.legend(loc=\"upper right\", facecolor='white', framealpha=1)\n",
    "ax.grid()\n",
    "plt.ylabel(r\"$\\rho$\", rotation=0)\n",
    "plt.xlabel(r\"$s$\")\n",
    "ax.yaxis.set_label_coords(-0.05, 1)\n",
    "fig.savefig(\"out.png\", bbox_inches='tight')"
   ]
  },
  {
   "cell_type": "markdown",
   "id": "64d44ed8",
   "metadata": {},
   "source": [
    "**Visualize an entire WSI image**"
   ]
  },
  {
   "cell_type": "code",
   "execution_count": null,
   "id": "52e3378e",
   "metadata": {},
   "outputs": [],
   "source": [
    "slide_thimb_600 = slide.get_thumbnail(size=(600,600))"
   ]
  },
  {
   "cell_type": "code",
   "execution_count": null,
   "id": "4e72d440",
   "metadata": {},
   "outputs": [],
   "source": [
    "np.array(slide_thimb_600).shape"
   ]
  },
  {
   "cell_type": "code",
   "execution_count": null,
   "id": "1fb05e84",
   "metadata": {},
   "outputs": [],
   "source": [
    "slide_annotated = cv2.imread(r\"C:\\Users\\penki\\Documents\\cmc\\data\\PATH-DT-MSU-WSI\\WSS2-v1\\train\\03_preview.jpg\")\n",
    "slide_annotated = cv2.cvtColor(slide_annotated, cv2.COLOR_BGR2RGB)"
   ]
  },
  {
   "cell_type": "code",
   "execution_count": null,
   "id": "4480becb",
   "metadata": {},
   "outputs": [],
   "source": [
    "slide.level_dimensions"
   ]
  },
  {
   "cell_type": "code",
   "execution_count": null,
   "id": "1f4aa755",
   "metadata": {},
   "outputs": [],
   "source": [
    "slide_annotated.shape"
   ]
  },
  {
   "cell_type": "code",
   "execution_count": null,
   "id": "afaa0cbe",
   "metadata": {},
   "outputs": [],
   "source": [
    "plt.imshow(slide_annotated)"
   ]
  },
  {
   "cell_type": "code",
   "execution_count": null,
   "id": "671a8b57",
   "metadata": {},
   "outputs": [],
   "source": [
    "plt.imshow(slide_annotated[250:1800, 2000:4200])"
   ]
  },
  {
   "cell_type": "markdown",
   "id": "36e36072",
   "metadata": {},
   "source": [
    "**AT (orange, 0) patch**"
   ]
  },
  {
   "cell_type": "code",
   "execution_count": null,
   "id": "39fc14c4",
   "metadata": {},
   "outputs": [],
   "source": [
    "plt.imshow(slide_annotated[400:400+224, 1800:1800+224])  # AT (0) "
   ]
  },
  {
   "cell_type": "code",
   "execution_count": null,
   "id": "4f0c1240",
   "metadata": {},
   "outputs": [],
   "source": [
    "h_c = (400 + 400+224) // 2\n",
    "w_c = (1800 + 1800+224) // 2\n",
    "\n",
    "h_c, w_c"
   ]
  },
  {
   "cell_type": "markdown",
   "id": "5e1fe528",
   "metadata": {},
   "source": [
    "**BG (cyan, 1) patch**"
   ]
  },
  {
   "cell_type": "code",
   "execution_count": null,
   "id": "391d75f2",
   "metadata": {},
   "outputs": [],
   "source": [
    "plt.imshow(slide_annotated[500:500+224, 450:450+224])  # BG (1) "
   ]
  },
  {
   "cell_type": "code",
   "execution_count": null,
   "id": "119ed70a",
   "metadata": {},
   "outputs": [],
   "source": [
    "h_c = (500 + 500+224) // 2\n",
    "w_c = (450 + 450+224) // 2\n",
    "\n",
    "h_c, w_c"
   ]
  },
  {
   "cell_type": "markdown",
   "id": "4b8aa072",
   "metadata": {},
   "source": [
    "**LP (green, 2) patch**"
   ]
  },
  {
   "cell_type": "code",
   "execution_count": null,
   "id": "6a132acf",
   "metadata": {},
   "outputs": [],
   "source": [
    "plt.imshow(slide_annotated[300:300+224, 2700:2700+224])  # LP (2) "
   ]
  },
  {
   "cell_type": "code",
   "execution_count": null,
   "id": "a8699776",
   "metadata": {},
   "outputs": [],
   "source": [
    "h_c = (300 + 300+224) // 2\n",
    "w_c = (2700 + 2700+224) // 2\n",
    "\n",
    "h_c, w_c"
   ]
  },
  {
   "cell_type": "markdown",
   "id": "37edaf90",
   "metadata": {},
   "source": [
    "**MM (red, 3) patch**"
   ]
  },
  {
   "cell_type": "code",
   "execution_count": null,
   "id": "17e00ced",
   "metadata": {},
   "outputs": [],
   "source": [
    "plt.imshow(slide_annotated[90:90+224, 2090:2090+224])  # MM (3) "
   ]
  },
  {
   "cell_type": "code",
   "execution_count": null,
   "id": "80781d62",
   "metadata": {},
   "outputs": [],
   "source": [
    "h_c = (90 + 90+224) // 2\n",
    "w_c = (2090 + 2090+224) // 2\n",
    "\n",
    "h_c, w_c"
   ]
  },
  {
   "cell_type": "markdown",
   "id": "9d73c364",
   "metadata": {},
   "source": [
    "**TUM (blue, 4) patch**"
   ]
  },
  {
   "cell_type": "code",
   "execution_count": null,
   "id": "555d0905",
   "metadata": {},
   "outputs": [],
   "source": [
    "plt.imshow(slide_annotated[1000:1000+224, 4050:4050+224])  # TUM (4) "
   ]
  },
  {
   "cell_type": "code",
   "execution_count": null,
   "id": "c9ce5479",
   "metadata": {},
   "outputs": [],
   "source": [
    "h_c = (1000 + 1224) // 2\n",
    "w_c = (4050 + 4050+224) // 2\n",
    "\n",
    "h_c, w_c"
   ]
  },
  {
   "cell_type": "code",
   "execution_count": null,
   "id": "962e7c45",
   "metadata": {},
   "outputs": [],
   "source": []
  }
 ],
 "metadata": {
  "kernelspec": {
   "display_name": "Python 3 (ipykernel)",
   "language": "python",
   "name": "python3"
  },
  "language_info": {
   "codemirror_mode": {
    "name": "ipython",
    "version": 3
   },
   "file_extension": ".py",
   "mimetype": "text/x-python",
   "name": "python",
   "nbconvert_exporter": "python",
   "pygments_lexer": "ipython3",
   "version": "3.9.13"
  }
 },
 "nbformat": 4,
 "nbformat_minor": 5
}
