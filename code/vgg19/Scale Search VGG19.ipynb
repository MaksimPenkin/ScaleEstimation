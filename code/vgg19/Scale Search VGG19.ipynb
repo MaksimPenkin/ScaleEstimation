{
 "cells": [
  {
   "cell_type": "code",
   "execution_count": null,
   "id": "b2e7865c",
   "metadata": {},
   "outputs": [],
   "source": [
    "import torch"
   ]
  },
  {
   "cell_type": "code",
   "execution_count": null,
   "id": "c771ee9e",
   "metadata": {},
   "outputs": [],
   "source": [
    "torch.__version__"
   ]
  },
  {
   "cell_type": "code",
   "execution_count": null,
   "id": "430718e1",
   "metadata": {},
   "outputs": [],
   "source": [
    "import torch\n",
    "import torchvision\n",
    "import torchvision.transforms as transforms"
   ]
  },
  {
   "cell_type": "code",
   "execution_count": null,
   "id": "550afe85",
   "metadata": {},
   "outputs": [],
   "source": [
    "import os\n",
    "import numpy as np\n",
    "import cv2\n",
    "from skimage.io import imread, imsave\n",
    "from PIL import Image\n",
    "from tqdm import tqdm\n",
    "import matplotlib.pyplot as plt"
   ]
  },
  {
   "cell_type": "markdown",
   "id": "4cf2a9c5",
   "metadata": {},
   "source": [
    "**Define model**"
   ]
  },
  {
   "cell_type": "code",
   "execution_count": null,
   "id": "962229a7",
   "metadata": {},
   "outputs": [],
   "source": [
    "import torch.nn as nn\n",
    "import torch.nn.functional as F\n",
    "\n",
    "from torchvision import models"
   ]
  },
  {
   "cell_type": "markdown",
   "id": "8134ab82",
   "metadata": {},
   "source": [
    "**Define the model**"
   ]
  },
  {
   "cell_type": "code",
   "execution_count": null,
   "id": "d9ef7287",
   "metadata": {},
   "outputs": [],
   "source": [
    "class VGG19(nn.Module):\n",
    "\n",
    "    def __init__(self, pretrained=False):\n",
    "        super().__init__()\n",
    "\n",
    "        vgg19_pretrained = models.vgg19(pretrained=pretrained)\n",
    "        self.backbone = vgg19_pretrained.features\n",
    "        self.avgpool = vgg19_pretrained.avgpool\n",
    "        \n",
    "        self.fc1 = nn.Linear(in_features=25088, out_features=4096)\n",
    "        self.fc2 = nn.Linear(in_features=4096, out_features=4096)\n",
    "        self.fc3 = nn.Linear(in_features=4096, out_features=5)\n",
    "\n",
    "\n",
    "    def forward(self, x):\n",
    "        x = self.backbone(x)\n",
    "        x = self.avgpool(x)\n",
    "        x = torch.flatten(x, 1)\n",
    "        \n",
    "        x = F.relu(self.fc1(x))\n",
    "        \n",
    "        x = F.relu(self.fc2(x))\n",
    "        \n",
    "        logits = self.fc3(x)\n",
    "\n",
    "        return x, logits"
   ]
  },
  {
   "cell_type": "markdown",
   "id": "11875af3",
   "metadata": {},
   "source": [
    "**Load pre-trained ckpts**"
   ]
  },
  {
   "cell_type": "code",
   "execution_count": null,
   "id": "5cc51424",
   "metadata": {},
   "outputs": [],
   "source": [
    "net = VGG19(pretrained=False)\n",
    "net.load_state_dict(torch.load(\"../../ckpt/vgg19_wsi224.pt\"))\n",
    "net.eval()"
   ]
  },
  {
   "cell_type": "code",
   "execution_count": null,
   "id": "529e3287",
   "metadata": {},
   "outputs": [],
   "source": [
    "device = torch.device('cuda:0' if torch.cuda.is_available() else 'cpu')\n",
    "net.to(device)"
   ]
  },
  {
   "cell_type": "markdown",
   "id": "9e34a958",
   "metadata": {},
   "source": [
    "**Evaluate mode with pre-traine weights on the original scale**"
   ]
  },
  {
   "cell_type": "code",
   "execution_count": null,
   "id": "71b9ca48",
   "metadata": {},
   "outputs": [],
   "source": [
    "transform = transforms.Compose(\n",
    "    [transforms.ToTensor(),\n",
    "     transforms.Normalize([0.485, 0.456, 0.406], [0.229, 0.224, 0.225])])\n",
    "\n",
    "batch_size = 32\n",
    "\n",
    "testset = torchvision.datasets.ImageFolder(\"../../data/path-dt-msu-wsi/val\", transform=transform)\n",
    "testloader = torch.utils.data.DataLoader(testset, batch_size=batch_size,\n",
    "                                          shuffle=True, num_workers=2)\n"
   ]
  },
  {
   "cell_type": "code",
   "execution_count": null,
   "id": "914d23a8",
   "metadata": {},
   "outputs": [],
   "source": [
    "correct = 0\n",
    "total = 0\n",
    "\n",
    "with torch.no_grad():\n",
    "    for data in tqdm(testloader):\n",
    "        inputs, labels = data[0].to(device), data[1].to(device)\n",
    "\n",
    "        _, outputs = net(inputs)\n",
    "\n",
    "        _, predicted = torch.max(outputs.data, 1)\n",
    "        total += labels.size(0)\n",
    "        correct += (predicted == labels).sum().item()\n",
    "\n",
    "print(f'Accuracy of the network: {100 * correct // total} %')"
   ]
  },
  {
   "cell_type": "markdown",
   "id": "b57563b6",
   "metadata": {},
   "source": [
    "**Testing on real multi-scale WSI via OpenSlide library**"
   ]
  },
  {
   "cell_type": "code",
   "execution_count": null,
   "id": "edfd1ee5",
   "metadata": {},
   "outputs": [],
   "source": [
    "# The path can also be read from a config file, etc.\n",
    "OPENSLIDE_PATH = r'C:\\tools\\openslide-win64-20171122\\bin'\n",
    "\n",
    "import os\n",
    "if hasattr(os, 'add_dll_directory'):\n",
    "    # Python >= 3.8 on Windows\n",
    "    with os.add_dll_directory(OPENSLIDE_PATH):\n",
    "        import openslide\n",
    "else:\n",
    "    import openslide\n",
    "    \n",
    "import large_image\n",
    "\n",
    "from openslide import open_slide\n",
    "from PIL import Image\n",
    "import numpy as np\n",
    "import matplotlib.pyplot as plt"
   ]
  },
  {
   "cell_type": "code",
   "execution_count": null,
   "id": "556fe3e2",
   "metadata": {},
   "outputs": [],
   "source": [
    "import os\n",
    "\n",
    "import numpy as np\n",
    "import matplotlib.pyplot as plt"
   ]
  },
  {
   "cell_type": "code",
   "execution_count": null,
   "id": "72fb2262",
   "metadata": {},
   "outputs": [],
   "source": [
    "wsi_path = '../../data/wsi_image.svs'"
   ]
  },
  {
   "cell_type": "code",
   "execution_count": null,
   "id": "bcd7aad9",
   "metadata": {},
   "outputs": [],
   "source": [
    "slide = open_slide(wsi_path)"
   ]
  },
  {
   "cell_type": "code",
   "execution_count": null,
   "id": "c3abc06a",
   "metadata": {},
   "outputs": [],
   "source": [
    "slide.properties"
   ]
  },
  {
   "cell_type": "code",
   "execution_count": null,
   "id": "dfb40d2e",
   "metadata": {},
   "outputs": [],
   "source": [
    "slide.level_dimensions"
   ]
  },
  {
   "cell_type": "code",
   "execution_count": null,
   "id": "6e452638",
   "metadata": {},
   "outputs": [],
   "source": [
    "def maxmin_norm(img):\n",
    "    img = img.astype(np.float32)\n",
    "    img = (img - img.min()) / (img.max() - img.min())\n",
    "    return img.astype(np.float32)"
   ]
  },
  {
   "cell_type": "code",
   "execution_count": null,
   "id": "c9329092",
   "metadata": {},
   "outputs": [],
   "source": [
    "def get_image_scale(wsi, x_c, y_c, h, w):\n",
    "    x_0 = x_c - h//2\n",
    "    y_0 = y_c - w//2\n",
    "\n",
    "    location = (x_0, y_0)\n",
    "    smaller_region = slide.read_region(location, level=0, size=(h,w))\n",
    "    smaller_region = np.array(smaller_region.convert('RGB'))\n",
    "    \n",
    "    return maxmin_norm(smaller_region)"
   ]
  },
  {
   "cell_type": "markdown",
   "id": "c760e402",
   "metadata": {},
   "source": [
    "**Play a little bit with different scales extraction**"
   ]
  },
  {
   "cell_type": "code",
   "execution_count": null,
   "id": "692d0484",
   "metadata": {},
   "outputs": [],
   "source": [
    "# x_c = 2000\n",
    "# y_c = 5000\n",
    "\n",
    "# x_c = 16000\n",
    "# y_c = 16000\n",
    "\n",
    "# x_c = 9000\n",
    "# y_c = 9000\n",
    "\n",
    "x_c = 2000\n",
    "y_c = 6000\n",
    "\n",
    "h_orig, w_orig = 64, 64"
   ]
  },
  {
   "cell_type": "code",
   "execution_count": null,
   "id": "28a0e385",
   "metadata": {},
   "outputs": [],
   "source": [
    "scale = 10\n",
    "\n",
    "smaller_region = get_image_scale(slide, x_c, y_c, h_orig*scale, w_orig*scale)"
   ]
  },
  {
   "cell_type": "code",
   "execution_count": null,
   "id": "eb57d486",
   "metadata": {},
   "outputs": [],
   "source": [
    "plt.imshow(smaller_region)"
   ]
  },
  {
   "cell_type": "markdown",
   "id": "80222f8b",
   "metadata": {},
   "source": [
    "**Feed multi-scale samples to the fine-tuned NN**"
   ]
  },
  {
   "cell_type": "code",
   "execution_count": null,
   "id": "7d27eae4",
   "metadata": {},
   "outputs": [],
   "source": [
    "from PIL import Image\n",
    "from matplotlib import cm"
   ]
  },
  {
   "cell_type": "code",
   "execution_count": null,
   "id": "0338e064",
   "metadata": {},
   "outputs": [],
   "source": [
    "apply_transform = transforms.Compose(\n",
    "    [transforms.Resize(256),\n",
    "     transforms.CenterCrop(224),\n",
    "     transforms.ToTensor(),\n",
    "     transforms.Normalize([0.485, 0.456, 0.406], [0.229, 0.224, 0.225])\n",
    "    ])"
   ]
  },
  {
   "cell_type": "markdown",
   "id": "f72ddba1",
   "metadata": {},
   "source": [
    "**Review predictions and model's confidence in the predictions on various scales**"
   ]
  },
  {
   "cell_type": "code",
   "execution_count": null,
   "id": "022bb08e",
   "metadata": {},
   "outputs": [],
   "source": [
    "X = []\n",
    "SCALE_GRID =  [1,2,4,8,10,20,30,40,50] \n",
    "for scale in SCALE_GRID:\n",
    "    slide_region = get_image_scale(slide, x_c, y_c, h_orig*scale, w_orig*scale)\n",
    "    img = Image.fromarray((np.clip(slide_region,0,1)*255).astype(np.uint8))\n",
    "    \n",
    "    img_t = apply_transform(img)[None, ...]\n",
    "    img_t = img_t.to(device)\n",
    "    f, logits = net(img_t)\n",
    "    X.append(f.cpu().detach().numpy()[0])\n",
    "    \n",
    "    \n",
    "    probs = F.softmax(logits, dim=-1)\n",
    "    pred = torch.argmax(probs).detach().cpu().numpy().item()\n",
    "    \n",
    "    print(\"Scale: {0}; Prediciton: {1}; Probability: {2:.2f}\".format(scale,\n",
    "                                                                     pred,\n",
    "                                                                     probs.detach().cpu().numpy()[0][pred] * 100))"
   ]
  },
  {
   "cell_type": "markdown",
   "id": "b7549df9",
   "metadata": {},
   "source": [
    "**Look into deep features activation...**"
   ]
  },
  {
   "cell_type": "code",
   "execution_count": null,
   "id": "46125424",
   "metadata": {},
   "outputs": [],
   "source": [
    "W = net.fc3.weight.cpu().detach().numpy().transpose()\n",
    "W.shape"
   ]
  },
  {
   "cell_type": "code",
   "execution_count": null,
   "id": "bda3a26a",
   "metadata": {},
   "outputs": [],
   "source": [
    "l2_norm = np.linalg.norm(W, ord=None, axis=0)  # Frobenius norm\n",
    "l2_norm.shape"
   ]
  },
  {
   "cell_type": "code",
   "execution_count": null,
   "id": "f14ed6c1",
   "metadata": {},
   "outputs": [],
   "source": [
    "X = np.array(X)\n",
    "X.shape"
   ]
  },
  {
   "cell_type": "code",
   "execution_count": null,
   "id": "3f512c2b",
   "metadata": {},
   "outputs": [],
   "source": [
    "dot = X.dot(W) / l2_norm[np.newaxis, ...]"
   ]
  },
  {
   "cell_type": "code",
   "execution_count": null,
   "id": "43d60368",
   "metadata": {},
   "outputs": [],
   "source": [
    "dot.shape\n",
    "dot_pos = dot * (dot>0)"
   ]
  },
  {
   "cell_type": "code",
   "execution_count": null,
   "id": "5b8189bf",
   "metadata": {},
   "outputs": [],
   "source": [
    "fig, ax = plt.subplots()\n",
    "for i in range(5):\n",
    "    ax.plot(SCALE_GRID, dot[:,i], label=str(i))\n",
    "ax.legend()"
   ]
  },
  {
   "cell_type": "code",
   "execution_count": null,
   "id": "ad13a4ba",
   "metadata": {},
   "outputs": [],
   "source": [
    "fig.savefig(\"out.png\")"
   ]
  },
  {
   "cell_type": "markdown",
   "id": "64d44ed8",
   "metadata": {},
   "source": [
    "**Visualize an entire WSI image**"
   ]
  },
  {
   "cell_type": "code",
   "execution_count": null,
   "id": "52e3378e",
   "metadata": {},
   "outputs": [],
   "source": [
    "slide_thimb_600 = slide.get_thumbnail(size=(600,600))"
   ]
  },
  {
   "cell_type": "code",
   "execution_count": null,
   "id": "4e72d440",
   "metadata": {},
   "outputs": [],
   "source": [
    "slide_thimb_600"
   ]
  },
  {
   "cell_type": "code",
   "execution_count": null,
   "id": "1fb05e84",
   "metadata": {},
   "outputs": [],
   "source": []
  }
 ],
 "metadata": {
  "kernelspec": {
   "display_name": "Python 3 (ipykernel)",
   "language": "python",
   "name": "python3"
  },
  "language_info": {
   "codemirror_mode": {
    "name": "ipython",
    "version": 3
   },
   "file_extension": ".py",
   "mimetype": "text/x-python",
   "name": "python",
   "nbconvert_exporter": "python",
   "pygments_lexer": "ipython3",
   "version": "3.9.13"
  }
 },
 "nbformat": 4,
 "nbformat_minor": 5
}
