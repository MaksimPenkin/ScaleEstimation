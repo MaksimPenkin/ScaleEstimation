{
 "cells": [
  {
   "cell_type": "code",
   "execution_count": 1,
   "id": "b2e7865c",
   "metadata": {},
   "outputs": [
    {
     "name": "stderr",
     "output_type": "stream",
     "text": [
      "C:\\Users\\m.penkin.CORP\\cmc\\lib\\site-packages\\tqdm\\auto.py:22: TqdmWarning: IProgress not found. Please update jupyter and ipywidgets. See https://ipywidgets.readthedocs.io/en/stable/user_install.html\n",
      "  from .autonotebook import tqdm as notebook_tqdm\n"
     ]
    }
   ],
   "source": [
    "import torch"
   ]
  },
  {
   "cell_type": "code",
   "execution_count": 2,
   "id": "c771ee9e",
   "metadata": {},
   "outputs": [
    {
     "data": {
      "text/plain": [
       "'1.12.0+cu113'"
      ]
     },
     "execution_count": 2,
     "metadata": {},
     "output_type": "execute_result"
    }
   ],
   "source": [
    "torch.__version__"
   ]
  },
  {
   "cell_type": "code",
   "execution_count": 3,
   "id": "430718e1",
   "metadata": {},
   "outputs": [],
   "source": [
    "import torch\n",
    "import torchvision\n",
    "import torchvision.transforms as transforms"
   ]
  },
  {
   "cell_type": "code",
   "execution_count": 4,
   "id": "550afe85",
   "metadata": {},
   "outputs": [],
   "source": [
    "import os\n",
    "import numpy as np\n",
    "import cv2\n",
    "from skimage.io import imread, imsave\n",
    "from PIL import Image\n",
    "from tqdm import tqdm\n",
    "import matplotlib.pyplot as plt"
   ]
  },
  {
   "cell_type": "markdown",
   "id": "4cf2a9c5",
   "metadata": {},
   "source": [
    "**Define model**"
   ]
  },
  {
   "cell_type": "code",
   "execution_count": 5,
   "id": "962229a7",
   "metadata": {},
   "outputs": [],
   "source": [
    "import torch.nn as nn\n",
    "import torch.nn.functional as F\n",
    "\n",
    "from torchvision import models"
   ]
  },
  {
   "cell_type": "markdown",
   "id": "8134ab82",
   "metadata": {},
   "source": [
    "**Define the model**"
   ]
  },
  {
   "cell_type": "code",
   "execution_count": 6,
   "id": "d9ef7287",
   "metadata": {},
   "outputs": [],
   "source": [
    "class ResNet18(nn.Module):\n",
    "\n",
    "    def __init__(self, pretrained=False):\n",
    "        super().__init__()\n",
    "\n",
    "        self.backbone = models.resnet18(pretrained=pretrained)\n",
    "        self.backbone.fc = nn.Identity()\n",
    "        self.fc = nn.Linear(in_features=512, out_features=5)\n",
    "\n",
    "    def forward(self, x):\n",
    "        x = self.backbone(x)\n",
    "        logits = self.fc(x)\n",
    "\n",
    "        return x, logits"
   ]
  },
  {
   "cell_type": "markdown",
   "id": "11875af3",
   "metadata": {},
   "source": [
    "**Load pre-trained ckpts**"
   ]
  },
  {
   "cell_type": "code",
   "execution_count": 7,
   "id": "5cc51424",
   "metadata": {},
   "outputs": [
    {
     "name": "stderr",
     "output_type": "stream",
     "text": [
      "C:\\Users\\m.penkin.CORP\\cmc\\lib\\site-packages\\torchvision\\models\\_utils.py:208: UserWarning: The parameter 'pretrained' is deprecated since 0.13 and will be removed in 0.15, please use 'weights' instead.\n",
      "  warnings.warn(\n",
      "C:\\Users\\m.penkin.CORP\\cmc\\lib\\site-packages\\torchvision\\models\\_utils.py:223: UserWarning: Arguments other than a weight enum or `None` for 'weights' are deprecated since 0.13 and will be removed in 0.15. The current behavior is equivalent to passing `weights=None`.\n",
      "  warnings.warn(msg)\n"
     ]
    },
    {
     "data": {
      "text/plain": [
       "ResNet18(\n",
       "  (backbone): ResNet(\n",
       "    (conv1): Conv2d(3, 64, kernel_size=(7, 7), stride=(2, 2), padding=(3, 3), bias=False)\n",
       "    (bn1): BatchNorm2d(64, eps=1e-05, momentum=0.1, affine=True, track_running_stats=True)\n",
       "    (relu): ReLU(inplace=True)\n",
       "    (maxpool): MaxPool2d(kernel_size=3, stride=2, padding=1, dilation=1, ceil_mode=False)\n",
       "    (layer1): Sequential(\n",
       "      (0): BasicBlock(\n",
       "        (conv1): Conv2d(64, 64, kernel_size=(3, 3), stride=(1, 1), padding=(1, 1), bias=False)\n",
       "        (bn1): BatchNorm2d(64, eps=1e-05, momentum=0.1, affine=True, track_running_stats=True)\n",
       "        (relu): ReLU(inplace=True)\n",
       "        (conv2): Conv2d(64, 64, kernel_size=(3, 3), stride=(1, 1), padding=(1, 1), bias=False)\n",
       "        (bn2): BatchNorm2d(64, eps=1e-05, momentum=0.1, affine=True, track_running_stats=True)\n",
       "      )\n",
       "      (1): BasicBlock(\n",
       "        (conv1): Conv2d(64, 64, kernel_size=(3, 3), stride=(1, 1), padding=(1, 1), bias=False)\n",
       "        (bn1): BatchNorm2d(64, eps=1e-05, momentum=0.1, affine=True, track_running_stats=True)\n",
       "        (relu): ReLU(inplace=True)\n",
       "        (conv2): Conv2d(64, 64, kernel_size=(3, 3), stride=(1, 1), padding=(1, 1), bias=False)\n",
       "        (bn2): BatchNorm2d(64, eps=1e-05, momentum=0.1, affine=True, track_running_stats=True)\n",
       "      )\n",
       "    )\n",
       "    (layer2): Sequential(\n",
       "      (0): BasicBlock(\n",
       "        (conv1): Conv2d(64, 128, kernel_size=(3, 3), stride=(2, 2), padding=(1, 1), bias=False)\n",
       "        (bn1): BatchNorm2d(128, eps=1e-05, momentum=0.1, affine=True, track_running_stats=True)\n",
       "        (relu): ReLU(inplace=True)\n",
       "        (conv2): Conv2d(128, 128, kernel_size=(3, 3), stride=(1, 1), padding=(1, 1), bias=False)\n",
       "        (bn2): BatchNorm2d(128, eps=1e-05, momentum=0.1, affine=True, track_running_stats=True)\n",
       "        (downsample): Sequential(\n",
       "          (0): Conv2d(64, 128, kernel_size=(1, 1), stride=(2, 2), bias=False)\n",
       "          (1): BatchNorm2d(128, eps=1e-05, momentum=0.1, affine=True, track_running_stats=True)\n",
       "        )\n",
       "      )\n",
       "      (1): BasicBlock(\n",
       "        (conv1): Conv2d(128, 128, kernel_size=(3, 3), stride=(1, 1), padding=(1, 1), bias=False)\n",
       "        (bn1): BatchNorm2d(128, eps=1e-05, momentum=0.1, affine=True, track_running_stats=True)\n",
       "        (relu): ReLU(inplace=True)\n",
       "        (conv2): Conv2d(128, 128, kernel_size=(3, 3), stride=(1, 1), padding=(1, 1), bias=False)\n",
       "        (bn2): BatchNorm2d(128, eps=1e-05, momentum=0.1, affine=True, track_running_stats=True)\n",
       "      )\n",
       "    )\n",
       "    (layer3): Sequential(\n",
       "      (0): BasicBlock(\n",
       "        (conv1): Conv2d(128, 256, kernel_size=(3, 3), stride=(2, 2), padding=(1, 1), bias=False)\n",
       "        (bn1): BatchNorm2d(256, eps=1e-05, momentum=0.1, affine=True, track_running_stats=True)\n",
       "        (relu): ReLU(inplace=True)\n",
       "        (conv2): Conv2d(256, 256, kernel_size=(3, 3), stride=(1, 1), padding=(1, 1), bias=False)\n",
       "        (bn2): BatchNorm2d(256, eps=1e-05, momentum=0.1, affine=True, track_running_stats=True)\n",
       "        (downsample): Sequential(\n",
       "          (0): Conv2d(128, 256, kernel_size=(1, 1), stride=(2, 2), bias=False)\n",
       "          (1): BatchNorm2d(256, eps=1e-05, momentum=0.1, affine=True, track_running_stats=True)\n",
       "        )\n",
       "      )\n",
       "      (1): BasicBlock(\n",
       "        (conv1): Conv2d(256, 256, kernel_size=(3, 3), stride=(1, 1), padding=(1, 1), bias=False)\n",
       "        (bn1): BatchNorm2d(256, eps=1e-05, momentum=0.1, affine=True, track_running_stats=True)\n",
       "        (relu): ReLU(inplace=True)\n",
       "        (conv2): Conv2d(256, 256, kernel_size=(3, 3), stride=(1, 1), padding=(1, 1), bias=False)\n",
       "        (bn2): BatchNorm2d(256, eps=1e-05, momentum=0.1, affine=True, track_running_stats=True)\n",
       "      )\n",
       "    )\n",
       "    (layer4): Sequential(\n",
       "      (0): BasicBlock(\n",
       "        (conv1): Conv2d(256, 512, kernel_size=(3, 3), stride=(2, 2), padding=(1, 1), bias=False)\n",
       "        (bn1): BatchNorm2d(512, eps=1e-05, momentum=0.1, affine=True, track_running_stats=True)\n",
       "        (relu): ReLU(inplace=True)\n",
       "        (conv2): Conv2d(512, 512, kernel_size=(3, 3), stride=(1, 1), padding=(1, 1), bias=False)\n",
       "        (bn2): BatchNorm2d(512, eps=1e-05, momentum=0.1, affine=True, track_running_stats=True)\n",
       "        (downsample): Sequential(\n",
       "          (0): Conv2d(256, 512, kernel_size=(1, 1), stride=(2, 2), bias=False)\n",
       "          (1): BatchNorm2d(512, eps=1e-05, momentum=0.1, affine=True, track_running_stats=True)\n",
       "        )\n",
       "      )\n",
       "      (1): BasicBlock(\n",
       "        (conv1): Conv2d(512, 512, kernel_size=(3, 3), stride=(1, 1), padding=(1, 1), bias=False)\n",
       "        (bn1): BatchNorm2d(512, eps=1e-05, momentum=0.1, affine=True, track_running_stats=True)\n",
       "        (relu): ReLU(inplace=True)\n",
       "        (conv2): Conv2d(512, 512, kernel_size=(3, 3), stride=(1, 1), padding=(1, 1), bias=False)\n",
       "        (bn2): BatchNorm2d(512, eps=1e-05, momentum=0.1, affine=True, track_running_stats=True)\n",
       "      )\n",
       "    )\n",
       "    (avgpool): AdaptiveAvgPool2d(output_size=(1, 1))\n",
       "    (fc): Identity()\n",
       "  )\n",
       "  (fc): Linear(in_features=512, out_features=5, bias=True)\n",
       ")"
      ]
     },
     "execution_count": 7,
     "metadata": {},
     "output_type": "execute_result"
    }
   ],
   "source": [
    "net = ResNet18(pretrained=False)\n",
    "net.load_state_dict(torch.load(\"../../ckpt/resnet18_wsi224.pt\"))\n",
    "net.eval()"
   ]
  },
  {
   "cell_type": "code",
   "execution_count": 8,
   "id": "529e3287",
   "metadata": {},
   "outputs": [
    {
     "data": {
      "text/plain": [
       "ResNet18(\n",
       "  (backbone): ResNet(\n",
       "    (conv1): Conv2d(3, 64, kernel_size=(7, 7), stride=(2, 2), padding=(3, 3), bias=False)\n",
       "    (bn1): BatchNorm2d(64, eps=1e-05, momentum=0.1, affine=True, track_running_stats=True)\n",
       "    (relu): ReLU(inplace=True)\n",
       "    (maxpool): MaxPool2d(kernel_size=3, stride=2, padding=1, dilation=1, ceil_mode=False)\n",
       "    (layer1): Sequential(\n",
       "      (0): BasicBlock(\n",
       "        (conv1): Conv2d(64, 64, kernel_size=(3, 3), stride=(1, 1), padding=(1, 1), bias=False)\n",
       "        (bn1): BatchNorm2d(64, eps=1e-05, momentum=0.1, affine=True, track_running_stats=True)\n",
       "        (relu): ReLU(inplace=True)\n",
       "        (conv2): Conv2d(64, 64, kernel_size=(3, 3), stride=(1, 1), padding=(1, 1), bias=False)\n",
       "        (bn2): BatchNorm2d(64, eps=1e-05, momentum=0.1, affine=True, track_running_stats=True)\n",
       "      )\n",
       "      (1): BasicBlock(\n",
       "        (conv1): Conv2d(64, 64, kernel_size=(3, 3), stride=(1, 1), padding=(1, 1), bias=False)\n",
       "        (bn1): BatchNorm2d(64, eps=1e-05, momentum=0.1, affine=True, track_running_stats=True)\n",
       "        (relu): ReLU(inplace=True)\n",
       "        (conv2): Conv2d(64, 64, kernel_size=(3, 3), stride=(1, 1), padding=(1, 1), bias=False)\n",
       "        (bn2): BatchNorm2d(64, eps=1e-05, momentum=0.1, affine=True, track_running_stats=True)\n",
       "      )\n",
       "    )\n",
       "    (layer2): Sequential(\n",
       "      (0): BasicBlock(\n",
       "        (conv1): Conv2d(64, 128, kernel_size=(3, 3), stride=(2, 2), padding=(1, 1), bias=False)\n",
       "        (bn1): BatchNorm2d(128, eps=1e-05, momentum=0.1, affine=True, track_running_stats=True)\n",
       "        (relu): ReLU(inplace=True)\n",
       "        (conv2): Conv2d(128, 128, kernel_size=(3, 3), stride=(1, 1), padding=(1, 1), bias=False)\n",
       "        (bn2): BatchNorm2d(128, eps=1e-05, momentum=0.1, affine=True, track_running_stats=True)\n",
       "        (downsample): Sequential(\n",
       "          (0): Conv2d(64, 128, kernel_size=(1, 1), stride=(2, 2), bias=False)\n",
       "          (1): BatchNorm2d(128, eps=1e-05, momentum=0.1, affine=True, track_running_stats=True)\n",
       "        )\n",
       "      )\n",
       "      (1): BasicBlock(\n",
       "        (conv1): Conv2d(128, 128, kernel_size=(3, 3), stride=(1, 1), padding=(1, 1), bias=False)\n",
       "        (bn1): BatchNorm2d(128, eps=1e-05, momentum=0.1, affine=True, track_running_stats=True)\n",
       "        (relu): ReLU(inplace=True)\n",
       "        (conv2): Conv2d(128, 128, kernel_size=(3, 3), stride=(1, 1), padding=(1, 1), bias=False)\n",
       "        (bn2): BatchNorm2d(128, eps=1e-05, momentum=0.1, affine=True, track_running_stats=True)\n",
       "      )\n",
       "    )\n",
       "    (layer3): Sequential(\n",
       "      (0): BasicBlock(\n",
       "        (conv1): Conv2d(128, 256, kernel_size=(3, 3), stride=(2, 2), padding=(1, 1), bias=False)\n",
       "        (bn1): BatchNorm2d(256, eps=1e-05, momentum=0.1, affine=True, track_running_stats=True)\n",
       "        (relu): ReLU(inplace=True)\n",
       "        (conv2): Conv2d(256, 256, kernel_size=(3, 3), stride=(1, 1), padding=(1, 1), bias=False)\n",
       "        (bn2): BatchNorm2d(256, eps=1e-05, momentum=0.1, affine=True, track_running_stats=True)\n",
       "        (downsample): Sequential(\n",
       "          (0): Conv2d(128, 256, kernel_size=(1, 1), stride=(2, 2), bias=False)\n",
       "          (1): BatchNorm2d(256, eps=1e-05, momentum=0.1, affine=True, track_running_stats=True)\n",
       "        )\n",
       "      )\n",
       "      (1): BasicBlock(\n",
       "        (conv1): Conv2d(256, 256, kernel_size=(3, 3), stride=(1, 1), padding=(1, 1), bias=False)\n",
       "        (bn1): BatchNorm2d(256, eps=1e-05, momentum=0.1, affine=True, track_running_stats=True)\n",
       "        (relu): ReLU(inplace=True)\n",
       "        (conv2): Conv2d(256, 256, kernel_size=(3, 3), stride=(1, 1), padding=(1, 1), bias=False)\n",
       "        (bn2): BatchNorm2d(256, eps=1e-05, momentum=0.1, affine=True, track_running_stats=True)\n",
       "      )\n",
       "    )\n",
       "    (layer4): Sequential(\n",
       "      (0): BasicBlock(\n",
       "        (conv1): Conv2d(256, 512, kernel_size=(3, 3), stride=(2, 2), padding=(1, 1), bias=False)\n",
       "        (bn1): BatchNorm2d(512, eps=1e-05, momentum=0.1, affine=True, track_running_stats=True)\n",
       "        (relu): ReLU(inplace=True)\n",
       "        (conv2): Conv2d(512, 512, kernel_size=(3, 3), stride=(1, 1), padding=(1, 1), bias=False)\n",
       "        (bn2): BatchNorm2d(512, eps=1e-05, momentum=0.1, affine=True, track_running_stats=True)\n",
       "        (downsample): Sequential(\n",
       "          (0): Conv2d(256, 512, kernel_size=(1, 1), stride=(2, 2), bias=False)\n",
       "          (1): BatchNorm2d(512, eps=1e-05, momentum=0.1, affine=True, track_running_stats=True)\n",
       "        )\n",
       "      )\n",
       "      (1): BasicBlock(\n",
       "        (conv1): Conv2d(512, 512, kernel_size=(3, 3), stride=(1, 1), padding=(1, 1), bias=False)\n",
       "        (bn1): BatchNorm2d(512, eps=1e-05, momentum=0.1, affine=True, track_running_stats=True)\n",
       "        (relu): ReLU(inplace=True)\n",
       "        (conv2): Conv2d(512, 512, kernel_size=(3, 3), stride=(1, 1), padding=(1, 1), bias=False)\n",
       "        (bn2): BatchNorm2d(512, eps=1e-05, momentum=0.1, affine=True, track_running_stats=True)\n",
       "      )\n",
       "    )\n",
       "    (avgpool): AdaptiveAvgPool2d(output_size=(1, 1))\n",
       "    (fc): Identity()\n",
       "  )\n",
       "  (fc): Linear(in_features=512, out_features=5, bias=True)\n",
       ")"
      ]
     },
     "execution_count": 8,
     "metadata": {},
     "output_type": "execute_result"
    }
   ],
   "source": [
    "device = torch.device('cuda:0' if torch.cuda.is_available() else 'cpu')\n",
    "net.to(device)"
   ]
  },
  {
   "cell_type": "markdown",
   "id": "9e34a958",
   "metadata": {},
   "source": [
    "**Evaluate mode with pre-trained weights on the original scale**"
   ]
  },
  {
   "cell_type": "code",
   "execution_count": 9,
   "id": "71b9ca48",
   "metadata": {},
   "outputs": [],
   "source": [
    "transform = transforms.Compose(\n",
    "    [transforms.ToTensor(),\n",
    "     transforms.Normalize([0.485, 0.456, 0.406], [0.229, 0.224, 0.225])])\n",
    "\n",
    "batch_size = 32\n",
    "\n",
    "testset = torchvision.datasets.ImageFolder(\"../../data/path-dt-msu-wsi/val\", transform=transform)\n",
    "testloader = torch.utils.data.DataLoader(testset, batch_size=batch_size,\n",
    "                                          shuffle=True, num_workers=2)\n"
   ]
  },
  {
   "cell_type": "code",
   "execution_count": 10,
   "id": "914d23a8",
   "metadata": {},
   "outputs": [
    {
     "name": "stderr",
     "output_type": "stream",
     "text": [
      "100%|████████████████████████████████████████████████████████████████████████████████| 821/821 [00:33<00:00, 24.16it/s]"
     ]
    },
    {
     "name": "stdout",
     "output_type": "stream",
     "text": [
      "Accuracy of the network: 97 %\n"
     ]
    },
    {
     "name": "stderr",
     "output_type": "stream",
     "text": [
      "\n"
     ]
    }
   ],
   "source": [
    "correct = 0\n",
    "total = 0\n",
    "\n",
    "with torch.no_grad():\n",
    "    for data in tqdm(testloader):\n",
    "        inputs, labels = data[0].to(device), data[1].to(device)\n",
    "\n",
    "        _, outputs = net(inputs)\n",
    "\n",
    "        _, predicted = torch.max(outputs.data, 1)\n",
    "        total += labels.size(0)\n",
    "        correct += (predicted == labels).sum().item()\n",
    "\n",
    "print(f'Accuracy of the network: {100 * correct // total} %')"
   ]
  },
  {
   "cell_type": "markdown",
   "id": "b57563b6",
   "metadata": {},
   "source": [
    "**Testing on real multi-scale WSI via OpenSlide library**"
   ]
  },
  {
   "cell_type": "code",
   "execution_count": 11,
   "id": "edfd1ee5",
   "metadata": {},
   "outputs": [],
   "source": [
    "# The path can also be read from a config file, etc.\n",
    "OPENSLIDE_PATH = r'C:\\tools\\openslide-win64-20171122\\bin'\n",
    "\n",
    "import os\n",
    "if hasattr(os, 'add_dll_directory'):\n",
    "    # Python >= 3.8 on Windows\n",
    "    with os.add_dll_directory(OPENSLIDE_PATH):\n",
    "        import openslide\n",
    "else:\n",
    "    import openslide\n",
    "    \n",
    "import large_image\n",
    "\n",
    "from openslide import open_slide\n",
    "from PIL import Image\n",
    "import numpy as np\n",
    "import matplotlib.pyplot as plt"
   ]
  },
  {
   "cell_type": "code",
   "execution_count": 12,
   "id": "556fe3e2",
   "metadata": {},
   "outputs": [],
   "source": [
    "import os\n",
    "\n",
    "import numpy as np\n",
    "import matplotlib.pyplot as plt"
   ]
  },
  {
   "cell_type": "code",
   "execution_count": 13,
   "id": "72fb2262",
   "metadata": {},
   "outputs": [],
   "source": [
    "wsi_path = '../../data/wsi_image.svs'"
   ]
  },
  {
   "cell_type": "code",
   "execution_count": 14,
   "id": "bcd7aad9",
   "metadata": {},
   "outputs": [],
   "source": [
    "slide = open_slide(wsi_path)"
   ]
  },
  {
   "cell_type": "code",
   "execution_count": 15,
   "id": "c3abc06a",
   "metadata": {},
   "outputs": [
    {
     "data": {
      "text/plain": [
       "<_PropertyMap {'aperio.AppMag': '20', 'aperio.DSR ID': 'AP1258-DSR', 'aperio.Date': '01/21/09', 'aperio.Filename': '7566', 'aperio.Filtered': '5', 'aperio.ICC Profile': 'ScanScope v1', 'aperio.ImageID': '7566', 'aperio.Left': '28.390419', 'aperio.LineAreaXOffset': '0.021368', 'aperio.LineAreaYOffset': '-0.005374', 'aperio.LineCameraSkew': '-0.000389', 'aperio.MPP': '0.5015', 'aperio.OriginalWidth': '32640', 'aperio.Originalheight': '38574', 'aperio.ScanScope ID': 'SS1302', 'aperio.StripeWidth': '2040', 'aperio.Time': '14:38:12', 'aperio.Title': 'none', 'aperio.Top': '20.236197', 'aperio.User': 'd7f93a12-41d0-44e0-b08e-c73b751a2d26', 'openslide.comment': 'Aperio Image Library v9.0.22\\r\\n32640x38574 [0,100 32001x38474] (240x240) JPEG/RGB Q=70|AppMag = 20|StripeWidth = 2040|ScanScope ID = SS1302|Filename = 7566|Title = none|Date = 01/21/09|Time = 14:38:12|User = d7f93a12-41d0-44e0-b08e-c73b751a2d26|MPP = 0.5015|Left = 28.390419|Top = 20.236197|LineCameraSkew = -0.000389|LineAreaXOffset = 0.021368|LineAreaYOffset = -0.005374|DSR ID = AP1258-DSR|ImageID = 7566|OriginalWidth = 32640|Originalheight = 38574|Filtered = 5|ICC Profile = ScanScope v1', 'openslide.level-count': '3', 'openslide.level[0].downsample': '1', 'openslide.level[0].height': '38474', 'openslide.level[0].tile-height': '240', 'openslide.level[0].tile-width': '240', 'openslide.level[0].width': '32001', 'openslide.level[1].downsample': '4.0001664717196928', 'openslide.level[1].height': '9618', 'openslide.level[1].tile-height': '240', 'openslide.level[1].tile-width': '240', 'openslide.level[1].width': '8000', 'openslide.level[2].downsample': '16.002329866888516', 'openslide.level[2].height': '2404', 'openslide.level[2].tile-height': '240', 'openslide.level[2].tile-width': '240', 'openslide.level[2].width': '2000', 'openslide.mpp-x': '0.50149999999999995', 'openslide.mpp-y': '0.50149999999999995', 'openslide.objective-power': '20', 'openslide.quickhash-1': '57de7e1f8ee49f02317d7a85b0cb82035983e7e47ca1e74290131eb68ed61309', 'openslide.vendor': 'aperio', 'tiff.ImageDescription': 'Aperio Image Library v9.0.22\\r\\n32640x38574 [0,100 32001x38474] (240x240) JPEG/RGB Q=70|AppMag = 20|StripeWidth = 2040|ScanScope ID = SS1302|Filename = 7566|Title = none|Date = 01/21/09|Time = 14:38:12|User = d7f93a12-41d0-44e0-b08e-c73b751a2d26|MPP = 0.5015|Left = 28.390419|Top = 20.236197|LineCameraSkew = -0.000389|LineAreaXOffset = 0.021368|LineAreaYOffset = -0.005374|DSR ID = AP1258-DSR|ImageID = 7566|OriginalWidth = 32640|Originalheight = 38574|Filtered = 5|ICC Profile = ScanScope v1', 'tiff.ResolutionUnit': 'inch'}>"
      ]
     },
     "execution_count": 15,
     "metadata": {},
     "output_type": "execute_result"
    }
   ],
   "source": [
    "slide.properties"
   ]
  },
  {
   "cell_type": "code",
   "execution_count": 16,
   "id": "dfb40d2e",
   "metadata": {},
   "outputs": [
    {
     "data": {
      "text/plain": [
       "((32001, 38474), (8000, 9618), (2000, 2404))"
      ]
     },
     "execution_count": 16,
     "metadata": {},
     "output_type": "execute_result"
    }
   ],
   "source": [
    "slide.level_dimensions"
   ]
  },
  {
   "cell_type": "code",
   "execution_count": null,
   "id": "6e452638",
   "metadata": {},
   "outputs": [],
   "source": [
    "def maxmin_norm(img):\n",
    "    img = img.astype(np.float32)\n",
    "    img = (img - img.min()) / (img.max() - img.min())\n",
    "    return img.astype(np.float32)"
   ]
  },
  {
   "cell_type": "code",
   "execution_count": null,
   "id": "c9329092",
   "metadata": {},
   "outputs": [],
   "source": [
    "def get_image_scale(wsi, x_c, y_c, h, w): # add logariphmic grid\n",
    "    x_0 = x_c - h//2\n",
    "    y_0 = y_c - w//2\n",
    "\n",
    "    location = (x_0, y_0)\n",
    "    smaller_region = slide.read_region(location, level=0, size=(h,w))\n",
    "    smaller_region = np.array(smaller_region.convert('RGB'))\n",
    "    \n",
    "    return maxmin_norm(smaller_region)"
   ]
  },
  {
   "cell_type": "markdown",
   "id": "c760e402",
   "metadata": {},
   "source": [
    "**Play a little bit with different scales extraction**"
   ]
  },
  {
   "cell_type": "code",
   "execution_count": null,
   "id": "692d0484",
   "metadata": {},
   "outputs": [],
   "source": [
    "# x_c = 2000\n",
    "# y_c = 5000\n",
    "\n",
    "# x_c = 16000\n",
    "# y_c = 16000\n",
    "\n",
    "# x_c = 9000 # 0, 1, 3\n",
    "# y_c = 9000\n",
    "\n",
    "x_c = 2000 # 1\n",
    "y_c = 6000\n",
    "\n",
    "h_orig, w_orig = 64, 64"
   ]
  },
  {
   "cell_type": "code",
   "execution_count": null,
   "id": "401ffc56",
   "metadata": {},
   "outputs": [],
   "source": [
    "# l = []\n",
    "# for scale in SCALE_GRID:\n",
    "#     img = get_image_scale(slide, x_c, y_c, h_orig*scale, w_orig*scale)    \n",
    "#     img = cv2.resize(img, (224, 224))\n",
    "#     buff = np.ones(shape=(256,256,3))\n",
    "#     buff[:224,:224] = img\n",
    "#     l.append(buff)\n",
    "# cv2.imwrite(\"./x_2k_y_6k.png\".format(s), np.hstack(l)[:224,:]*255)"
   ]
  },
  {
   "cell_type": "code",
   "execution_count": null,
   "id": "28a0e385",
   "metadata": {},
   "outputs": [],
   "source": [
    "scale = 50\n",
    "\n",
    "smaller_region = get_image_scale(slide, x_c, y_c, h_orig*scale, w_orig*scale)"
   ]
  },
  {
   "cell_type": "code",
   "execution_count": null,
   "id": "eb57d486",
   "metadata": {},
   "outputs": [],
   "source": [
    "plt.imshow(smaller_region)"
   ]
  },
  {
   "cell_type": "markdown",
   "id": "80222f8b",
   "metadata": {},
   "source": [
    "**Feed multi-scale samples to the fine-tuned NN**"
   ]
  },
  {
   "cell_type": "code",
   "execution_count": null,
   "id": "7d27eae4",
   "metadata": {},
   "outputs": [],
   "source": [
    "from PIL import Image\n",
    "from matplotlib import cm"
   ]
  },
  {
   "cell_type": "code",
   "execution_count": null,
   "id": "0338e064",
   "metadata": {},
   "outputs": [],
   "source": [
    "apply_transform = transforms.Compose(\n",
    "    [transforms.Resize(256),\n",
    "     transforms.CenterCrop(224),\n",
    "     transforms.ToTensor(),\n",
    "     transforms.Normalize([0.485, 0.456, 0.406], [0.229, 0.224, 0.225])\n",
    "    ])"
   ]
  },
  {
   "cell_type": "markdown",
   "id": "f72ddba1",
   "metadata": {},
   "source": [
    "**Review predictions and model's confidence in the predictions on various scales**"
   ]
  },
  {
   "cell_type": "code",
   "execution_count": null,
   "id": "022bb08e",
   "metadata": {},
   "outputs": [],
   "source": [
    "X = []\n",
    "SCALE_GRID =  [1,2,4,8,10,20,30,40,50] \n",
    "for scale in SCALE_GRID:\n",
    "    slide_region = get_image_scale(slide, x_c, y_c, h_orig*scale, w_orig*scale)\n",
    "    img = Image.fromarray((np.clip(slide_region,0,1)*255).astype(np.uint8))\n",
    "    \n",
    "    img_t = apply_transform(img)[None, ...]\n",
    "    img_t = img_t.to(device)\n",
    "    f, logits = net(img_t)\n",
    "    X.append(f.cpu().detach().numpy()[0])\n",
    "    \n",
    "    \n",
    "    probs = F.softmax(logits, dim=-1)\n",
    "    pred = torch.argmax(probs).detach().cpu().numpy().item()\n",
    "    \n",
    "    print(\"Scale: {0}; Prediciton: {1}; Probability: {2:.2f}\".format(scale,\n",
    "                                                                     pred,\n",
    "                                                                     probs.detach().cpu().numpy()[0][pred] * 100))"
   ]
  },
  {
   "cell_type": "markdown",
   "id": "b7549df9",
   "metadata": {},
   "source": [
    "**Look into deep features activation...**"
   ]
  },
  {
   "cell_type": "code",
   "execution_count": null,
   "id": "46125424",
   "metadata": {},
   "outputs": [],
   "source": [
    "W = net.fc.weight.cpu().detach().numpy().transpose()\n",
    "W.shape"
   ]
  },
  {
   "cell_type": "code",
   "execution_count": null,
   "id": "bda3a26a",
   "metadata": {},
   "outputs": [],
   "source": [
    "l2_norm = np.linalg.norm(W, ord=None, axis=0)  # Frobenius norm\n",
    "l2_norm.shape"
   ]
  },
  {
   "cell_type": "code",
   "execution_count": null,
   "id": "f14ed6c1",
   "metadata": {},
   "outputs": [],
   "source": [
    "X = np.array(X)\n",
    "X.shape"
   ]
  },
  {
   "cell_type": "code",
   "execution_count": null,
   "id": "3f512c2b",
   "metadata": {},
   "outputs": [],
   "source": [
    "dot = X.dot(W) / l2_norm[np.newaxis, ...]"
   ]
  },
  {
   "cell_type": "code",
   "execution_count": null,
   "id": "43d60368",
   "metadata": {},
   "outputs": [],
   "source": [
    "dot_pos = dot * (dot>0)"
   ]
  },
  {
   "cell_type": "code",
   "execution_count": null,
   "id": "7aedd67b",
   "metadata": {},
   "outputs": [],
   "source": [
    "fig, ax = plt.subplots()\n",
    "for i in range(5):\n",
    "    ax.plot(SCALE_GRID, dot[:,i], label=str(i))\n",
    "ax.legend()\n",
    "fig.savefig(\"out.png\")"
   ]
  },
  {
   "cell_type": "code",
   "execution_count": null,
   "id": "d014a7af",
   "metadata": {},
   "outputs": [],
   "source": [
    "fig, ax = plt.subplots()\n",
    "for i in range(5):\n",
    "    ax.plot(SCALE_GRID, dot_pos[:,i], label=str(i))\n",
    "ax.legend()"
   ]
  },
  {
   "cell_type": "markdown",
   "id": "64d44ed8",
   "metadata": {},
   "source": [
    "**Visualize an entire WSI image**"
   ]
  },
  {
   "cell_type": "code",
   "execution_count": null,
   "id": "52e3378e",
   "metadata": {},
   "outputs": [],
   "source": [
    "slide_thimb_600 = slide.get_thumbnail(size=(600,600))"
   ]
  },
  {
   "cell_type": "code",
   "execution_count": null,
   "id": "4e72d440",
   "metadata": {},
   "outputs": [],
   "source": [
    "slide_thimb_600"
   ]
  },
  {
   "cell_type": "code",
   "execution_count": null,
   "id": "1fb05e84",
   "metadata": {},
   "outputs": [],
   "source": []
  }
 ],
 "metadata": {
  "kernelspec": {
   "display_name": "Python 3 (ipykernel)",
   "language": "python",
   "name": "python3"
  },
  "language_info": {
   "codemirror_mode": {
    "name": "ipython",
    "version": 3
   },
   "file_extension": ".py",
   "mimetype": "text/x-python",
   "name": "python",
   "nbconvert_exporter": "python",
   "pygments_lexer": "ipython3",
   "version": "3.9.13"
  }
 },
 "nbformat": 4,
 "nbformat_minor": 5
}
